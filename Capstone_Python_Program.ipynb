{
  "nbformat": 4,
  "nbformat_minor": 0,
  "metadata": {
    "colab": {
      "provenance": [],
      "include_colab_link": true
    },
    "kernelspec": {
      "name": "python3",
      "display_name": "Python 3"
    },
    "language_info": {
      "name": "python"
    }
  },
  "cells": [
    {
      "cell_type": "markdown",
      "metadata": {
        "id": "view-in-github",
        "colab_type": "text"
      },
      "source": [
        "<a href=\"https://colab.research.google.com/github/TannerBD1/3/blob/main/Capstone_Python_Program.ipynb\" target=\"_parent\"><img src=\"https://colab.research.google.com/assets/colab-badge.svg\" alt=\"Open In Colab\"/></a>"
      ]
    },
    {
      "cell_type": "markdown",
      "source": [
        "# Capstone Assignment - Python Program\n",
        "Place your Python Program (as described in the DATA 2100 Capstone Assignment file) in the below code box.\n",
        "\n",
        "You will need to access the DBVacHR database to complete this program. The code for doing this, which uses the pymssql library, is provided for you in the code cell below.  You do **not** need to upload any database files into this Colab Notebook.\n",
        "\n",
        "# Submission Requirements\n",
        "\n",
        "After completing the coding, run your program by clicking the \"run cell\" (play) button on the left side of the  code box.  Be sure to enter any necessary inputs for the program to run to its completion.  Before submitting, **make sure the output of each program is viewable beneath the code box**.\n",
        "- To save the PDF to your computer, press File in the upper left-hand corner --> Print --> Save as PDF (Not available in all browsers; Chrome recommended).\n",
        "\n",
        "- To save the .ipynb file --> Press File in the upper left-hand corner --> Download --> Download .ipynb file.\n"
      ],
      "metadata": {
        "id": "rbw_b0zRL0QU"
      }
    },
    {
      "cell_type": "code",
      "source": [
        "# Place your program here.\n",
        "\n",
        "# Import pymssql library for connecting to remote SQL Server databases (similar to sqlite3)\n",
        "!pip install pymssql\n",
        "import pymssql\n",
        "\n",
        "# Connect to the remote database server\n",
        "conn = pymssql.connect(host='data-2100.ckm1cfmd3i4j.us-west-2.rds.amazonaws.com', # Connect to remote server on Amazon Web Services (AWS).\n",
        "                       user='data2100', # Username\n",
        "                       password='GoAggies!', # Password\n",
        "                       database='dbvachr') # Database to use\n",
        "\n",
        "# From here, follow the same steps to create a cursor, execute queries, etc.\n",
        "\n"
      ],
      "metadata": {
        "id": "5UorpmJcNGx_"
      },
      "execution_count": null,
      "outputs": []
    }
  ]
}